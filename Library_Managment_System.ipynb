{
  "nbformat": 4,
  "nbformat_minor": 0,
  "metadata": {
    "colab": {
      "provenance": [],
      "authorship_tag": "ABX9TyMEK3BkUbv/xQ/BEn09oJfB",
      "include_colab_link": true
    },
    "kernelspec": {
      "name": "python3",
      "display_name": "Python 3"
    },
    "language_info": {
      "name": "python"
    }
  },
  "cells": [
    {
      "cell_type": "markdown",
      "metadata": {
        "id": "view-in-github",
        "colab_type": "text"
      },
      "source": [
        "<a href=\"https://colab.research.google.com/github/NIKHILKANNAWAR/Library-Managment-System-Using-Flask/blob/main/Library_Managment_System.ipynb\" target=\"_parent\"><img src=\"https://colab.research.google.com/assets/colab-badge.svg\" alt=\"Open In Colab\"/></a>"
      ]
    },
    {
      "cell_type": "code",
      "source": [
        "!pip install pyngrok flask"
      ],
      "metadata": {
        "colab": {
          "base_uri": "https://localhost:8080/"
        },
        "id": "4O5Ho0FT17bq",
        "outputId": "29d071b8-acc4-4494-e640-f2f8e95211d4"
      },
      "execution_count": 2,
      "outputs": [
        {
          "output_type": "stream",
          "name": "stdout",
          "text": [
            "Collecting pyngrok\n",
            "  Downloading pyngrok-7.2.2-py3-none-any.whl.metadata (8.4 kB)\n",
            "Requirement already satisfied: flask in /usr/local/lib/python3.10/dist-packages (3.1.0)\n",
            "Requirement already satisfied: PyYAML>=5.1 in /usr/local/lib/python3.10/dist-packages (from pyngrok) (6.0.2)\n",
            "Requirement already satisfied: Werkzeug>=3.1 in /usr/local/lib/python3.10/dist-packages (from flask) (3.1.3)\n",
            "Requirement already satisfied: Jinja2>=3.1.2 in /usr/local/lib/python3.10/dist-packages (from flask) (3.1.4)\n",
            "Requirement already satisfied: itsdangerous>=2.2 in /usr/local/lib/python3.10/dist-packages (from flask) (2.2.0)\n",
            "Requirement already satisfied: click>=8.1.3 in /usr/local/lib/python3.10/dist-packages (from flask) (8.1.7)\n",
            "Requirement already satisfied: blinker>=1.9 in /usr/local/lib/python3.10/dist-packages (from flask) (1.9.0)\n",
            "Requirement already satisfied: MarkupSafe>=2.0 in /usr/local/lib/python3.10/dist-packages (from Jinja2>=3.1.2->flask) (3.0.2)\n",
            "Downloading pyngrok-7.2.2-py3-none-any.whl (22 kB)\n",
            "Installing collected packages: pyngrok\n",
            "Successfully installed pyngrok-7.2.2\n"
          ]
        }
      ]
    },
    {
      "cell_type": "code",
      "source": [
        "from pyngrok import ngrok\n",
        "!ngrok authtoken 2iVirvlJyLSNLLptyt7HZuigzBJ_68MmdVdXo5mindnLDG6Ak"
      ],
      "metadata": {
        "colab": {
          "base_uri": "https://localhost:8080/"
        },
        "id": "I5Z7tYl-2QX7",
        "outputId": "8c37fce9-ee6a-4b42-effa-da7fc6c7f9e5"
      },
      "execution_count": 5,
      "outputs": [
        {
          "output_type": "stream",
          "name": "stdout",
          "text": [
            "Authtoken saved to configuration file: /root/.config/ngrok/ngrok.yml\n"
          ]
        }
      ]
    },
    {
      "cell_type": "code",
      "execution_count": 6,
      "metadata": {
        "colab": {
          "base_uri": "https://localhost:8080/"
        },
        "id": "6l130ntm1oU_",
        "outputId": "34d8c127-bc1e-4b73-e67a-6576b1cf6291"
      },
      "outputs": [
        {
          "output_type": "stream",
          "name": "stdout",
          "text": [
            " * Serving Flask app '__main__'\n",
            " * Debug mode: off\n"
          ]
        },
        {
          "output_type": "stream",
          "name": "stderr",
          "text": [
            "Address already in use\n",
            "Port 5000 is in use by another program. Either identify and stop that program, or start the server with a different port.\n"
          ]
        },
        {
          "output_type": "stream",
          "name": "stdout",
          "text": [
            "Public URL: NgrokTunnel: \"https://ddfc-34-106-97-95.ngrok-free.app\" -> \"http://localhost:5000\"\n"
          ]
        }
      ],
      "source": [
        "from flask import Flask, request, jsonify\n",
        "from pyngrok import ngrok\n",
        "import threading\n",
        "\n",
        "app = Flask(__name__)\n",
        "\n",
        "# Counters and List storing data for books and members\n",
        "books = []\n",
        "members = []\n",
        "book_id_counter = 1\n",
        "member_id_counter = 1\n",
        "\n",
        "# CRUD Operations for Books that is Create retrive update and delete operations for books\n",
        "\n",
        "# Method to create book\n",
        "@app.route('/books', methods=['POST'])\n",
        "def create_book():\n",
        "    global book_id_counter\n",
        "    data = request.get_json()\n",
        "    new_book = {\n",
        "        \"id\": book_id_counter,\n",
        "        \"title\": data.get(\"title\"),\n",
        "        \"author\": data.get(\"author\"),\n",
        "        \"available\": True\n",
        "    }\n",
        "    books.append(new_book)\n",
        "    book_id_counter += 1\n",
        "    return jsonify(new_book), 201\n",
        "\n",
        "# Method to retrive all books available\n",
        "@app.route('/books', methods=['GET'])\n",
        "def get_books():\n",
        "    return jsonify(books), 200\n",
        "\n",
        "# Method to retrive book by book id\n",
        "@app.route('/books/<int:book_id>', methods=['GET'])\n",
        "def get_book(book_id):\n",
        "    book = next((book for book in books if book['id'] == book_id), None)\n",
        "    if not book:\n",
        "        return jsonify({\"error\": \"Book not found\"}), 404\n",
        "    return jsonify(book), 200\n",
        "\n",
        "# Method to update book detailes\n",
        "@app.route('/books/<int:book_id>', methods=['PUT'])\n",
        "def update_book(book_id):\n",
        "    data = request.get_json()\n",
        "    book = next((book for book in books if book['id'] == book_id), None)\n",
        "    if not book:\n",
        "        return jsonify({\"error\": \"Book not found\"}), 404\n",
        "    if \"title\" in data:\n",
        "        book[\"title\"] = data[\"title\"]\n",
        "    if \"author\" in data:\n",
        "        book[\"author\"] = data[\"author\"]\n",
        "    return jsonify(book), 200\n",
        "\n",
        "# Method to delete book\n",
        "@app.route('/books/<int:book_id>', methods=['DELETE'])\n",
        "def delete_book(book_id):\n",
        "    global books\n",
        "    books = [book for book in books if book['id'] != book_id]\n",
        "    return jsonify({\"message\": \"Book deleted successfully\"}), 200\n",
        "\n",
        "# CRUD Operations for Members\n",
        "\n",
        "# Method to add new member\n",
        "@app.route('/members', methods=['POST'])\n",
        "def create_member():\n",
        "    global member_id_counter\n",
        "    data = request.get_json()\n",
        "    new_member = {\n",
        "        \"id\": member_id_counter,\n",
        "        \"name\": data.get(\"name\"),\n",
        "        \"email\": data.get(\"email\")\n",
        "    }\n",
        "    members.append(new_member)\n",
        "    member_id_counter += 1\n",
        "    return jsonify(new_member), 201\n",
        "\n",
        "# Method to dispaly all members\n",
        "@app.route('/members', methods=['GET'])\n",
        "def get_members():\n",
        "    return jsonify(members), 200\n",
        "\n",
        "# Method to display member by member id\n",
        "@app.route('/members/<int:member_id>', methods=['GET'])\n",
        "def get_member(member_id):\n",
        "    member = next((member for member in members if member['id'] == member_id), None)\n",
        "    if not member:\n",
        "        return jsonify({\"error\": \"Member not found\"}), 404\n",
        "    return jsonify(member), 200\n",
        "\n",
        "# Method to update details of member\n",
        "@app.route('/members/<int:member_id>', methods=['PUT'])\n",
        "def update_member(member_id):\n",
        "    data = request.get_json()\n",
        "    member = next((member for member in members if member['id'] == member_id), None)\n",
        "    if not member:\n",
        "        return jsonify({\"error\": \"Member not found\"}), 404\n",
        "    if \"name\" in data:\n",
        "        member[\"name\"] = data[\"name\"]\n",
        "    if \"email\" in data:\n",
        "        member[\"email\"] = data[\"email\"]\n",
        "    return jsonify(member), 200\n",
        "\n",
        "# Method to delete member\n",
        "@app.route('/members/<int:member_id>', methods=['DELETE'])\n",
        "def delete_member(member_id):\n",
        "    global members\n",
        "    members = [member for member in members if member['id'] != member_id]\n",
        "    return jsonify({\"message\": \"Member deleted successfully\"}), 200\n",
        "\n",
        "# Start Flask\n",
        "def run_flask():\n",
        "    app.run(port=5000)\n",
        "\n",
        "thread = threading.Thread(target=run_flask)\n",
        "thread.start()\n",
        "\n",
        "# Expose the local server to the internet using ngrok\n",
        "public_url = ngrok.connect(5000)\n",
        "print(f\"Public URL: {public_url}\")\n"
      ]
    }
  ]
}